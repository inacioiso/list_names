{
  "nbformat": 4,
  "nbformat_minor": 0,
  "metadata": {
    "colab": {
      "provenance": [],
      "authorship_tag": "ABX9TyM1Iqe7+dsbZK4C3mCgEGOP",
      "include_colab_link": true
    },
    "kernelspec": {
      "name": "python3",
      "display_name": "Python 3"
    },
    "language_info": {
      "name": "python"
    }
  },
  "cells": [
    {
      "cell_type": "markdown",
      "metadata": {
        "id": "view-in-github",
        "colab_type": "text"
      },
      "source": [
        "<a href=\"https://colab.research.google.com/github/inacioiso/list_names/blob/main/main.ipynb\" target=\"_parent\"><img src=\"https://colab.research.google.com/assets/colab-badge.svg\" alt=\"Open In Colab\"/></a>"
      ]
    },
    {
      "cell_type": "markdown",
      "source": [
        "Algoritmo: Receber os nomes, ajustar com a classe, separar por meses e fazer o arquivo .xls\n"
      ],
      "metadata": {
        "id": "o1S2gRfF57EM"
      }
    },
    {
      "cell_type": "code",
      "execution_count": 3,
      "metadata": {
        "id": "6_7iDIFI5f9N"
      },
      "outputs": [],
      "source": [
        "import pandas as pd"
      ]
    },
    {
      "cell_type": "code",
      "execution_count": null,
      "metadata": {
        "id": "7Fc0LBWqKJ3I"
      },
      "outputs": [],
      "source": [
        "!pip install xlsxwriter"
      ]
    },
    {
      "cell_type": "code",
      "source": [
        "nomes = [\n",
        "      #nomes\n",
        "]\n",
        "\n",
        "datas = [\n",
        "    #datas\n",
        "]\n",
        "\n",
        "class Person:\n",
        "  def __init__(self, name, date):\n",
        "    self.name = name\n",
        "    self.date = date\n",
        "    self.bd = ''\n",
        "    self.check_bd(date)\n",
        "\n",
        "  def check_bd(self, date):\n",
        "    if date[2:] == '/01': self.bd = 'Janeiro'\n",
        "    if date[2:] == '/02': self.bd = 'Fevereiro'\n",
        "    if date[2:] == '/03': self.bd = 'Março'\n",
        "    if date[2:] == '/04': self.bd = 'Abril'\n",
        "    if date[2:] == '/05': self.bd = 'Maio'\n",
        "    if date[2:] == '/06': self.bd = 'Junho'\n",
        "    if date[2:] == '/07': self.bd = 'Julho'\n",
        "    if date[2:] == '/08': self.bd = 'Agosto'\n",
        "    if date[2:] == '/09': self.bd = 'Setembro'\n",
        "    if date[2:] == '/10': self.bd = 'Outubro'\n",
        "    if date[2:] == '/11': self.bd = 'Novembro'\n",
        "    if date[2:] == '/12': self.bd = 'Dezembro'\n",
        "\n",
        "P = []\n",
        "meses = {\n",
        "    'Janeiro': [], 'Fevereiro': [], 'Março': [], 'Abril': [], 'Maio': [],\n",
        "    'Junho': [], 'Julho': [], 'Agosto': [], 'Setembro': [], 'Outubro': [],\n",
        "    'Novembro': [], 'Dezembro': []\n",
        "}\n",
        "\n",
        "for i in range(48):\n",
        "  Pessoa = Person(nomes[i], datas[i])\n",
        "  P.append(Pessoa)\n",
        "  meses[Pessoa.bd].append({'Nome': Pessoa.name, 'Data': Pessoa.date})\n",
        "\n",
        "all_records = []\n",
        "for month, people in meses.items():\n",
        "    for person in people:\n",
        "        all_records.append({**person, 'Mês': month})\n",
        "\n",
        "df = pd.DataFrame(all_records)\n",
        "\n",
        "writer = pd.ExcelWriter('file.xlsx', engine='xlsxwriter')\n",
        "\n",
        "df.to_excel(writer, sheet_name='Sheet1', index=False)\n",
        "\n",
        "\n",
        "workbook  = writer.book\n",
        "worksheet = writer.sheets['Sheet1']\n",
        "\n",
        "\n",
        "for i, col in enumerate(df.columns):\n",
        "\n",
        "    series = df[col]\n",
        "    max_len = max((\n",
        "        series.astype(str).map(len).max(),\n",
        "        len(str(series.name))\n",
        "    )) + 1\n",
        "\n",
        "    worksheet.set_column(i, i, max_len)\n",
        "\n",
        "\n",
        "writer.close()"
      ],
      "metadata": {
        "id": "u57JfAfP6YKt"
      },
      "execution_count": 6,
      "outputs": []
    }
  ]
}